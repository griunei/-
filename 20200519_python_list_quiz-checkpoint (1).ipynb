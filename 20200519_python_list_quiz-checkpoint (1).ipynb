{
 "cells": [
  {
   "cell_type": "code",
   "execution_count": 30,
   "metadata": {},
   "outputs": [],
   "source": [
    "list_data = [1,2,'a','b','c',[4,5,6], '가','나']\n",
    "\n",
    "# 2를 출력\n",
    "# 'b'를 출력\n",
    "# 5를 출력\n",
    "# [5,6]을 출력\n",
    "# 맨 마지막 원소 출력\n",
    "# 홀수 인덱스 출력\n",
    "# 2를 10으로 수정\n",
    "# 마지막 위치에 '다'를 추가\n",
    "# 3번째 index 위치에 100을 삽입\n",
    "# 리스트의 길이를 출력\n",
    "# 'a'를 삭제\n",
    "# 인덱스 5의 값을 삭제\n",
    "# 'b'는 몇 번째 인덱스에 있는가\n",
    "# '나'라는 요소는 몇 개가 있는가"
   ]
  },
  {
   "cell_type": "code",
   "execution_count": 33,
   "metadata": {},
   "outputs": [
    {
     "name": "stdout",
     "output_type": "stream",
     "text": [
      "2\n",
      "b\n",
      "5\n",
      "[5, 6]\n",
      "나\n",
      "[1, 2, 'a', 'b', 'c', [4, 5, 6], '가', '나']\n",
      "[2, 'b', [4, 5, 6], '나']\n",
      "[1, 10, 'a', 'b', 'c', [4, 5, 6], '가', '나']\n",
      "[1, 10, 'a', 'b', 'c', [4, 5, 6], '가', '나', '다']\n",
      "9\n",
      "[1, 10, 'b', 'c', [4, 5, 6], '가', '나', '다']\n",
      "[1, 10, 'b', 'c', [4, 5, 6], '나', '다']\n",
      "2\n",
      "1\n"
     ]
    }
   ],
   "source": [
    "list_data = [1,2,'a','b','c',[4,5,6], '가','나']\n",
    "\n",
    "print(list_data[1])         # 1번 인덱스 출력\n",
    "print(list_data[3])         # 3번 인덱스 출력\n",
    "print(list_data[5][1])      # 5번 인덱스, 1번 인덱스 출력\n",
    "print(list_data[5][1:])     # 5번 인덱스, 1번 부터 끝까지 출력\n",
    "print(list_data[-1])        # 마지막 인덱스 출력...\n",
    "# print(list_data.pop()) : 마지막 원소를 출력하면서, 삭제를 동시에 한다.\n",
    "print(list_data)\n",
    "print(list_data[1:20:2])   # 홀수번 인덱스 출력\n",
    "list_data[1] = 10          # 1번 인덱스 값을 10으로 수정\n",
    "print(list_data)\n",
    "list_data.append('다')     # 리스트의 맨 끝 부번에 추가\n",
    "print(list_data)\n",
    "print(len(list_data))     # 리스트의 길이를 리턴\n",
    "list_data.remove('a')     # 특정한 값을 삭제 \n",
    "print(list_data)\n",
    "list_data.pop(5)          # 특정 인덱스의 값을 삭제\n",
    "print(list_data)\n",
    "print(list_data.index('b'))    # 특정값의 인덱스를 출력\n",
    "print(list_data.count('나'))   # 특정값의 갯수를 출력.."
   ]
  },
  {
   "cell_type": "code",
   "execution_count": 3,
   "metadata": {},
   "outputs": [],
   "source": [
    "sol = ['태양','수성','금성','지구','화성','목성','지구']\n",
    "sol1 = ['토성','천왕성','해왕성']"
   ]
  },
  {
   "cell_type": "code",
   "execution_count": null,
   "metadata": {},
   "outputs": [],
   "source": [
    "1. sol에서 '수성','금성','지구'를 출력하세요\n",
    "2. sol에서 '지구'의 인덱스를 출력하세요\n",
    "3. sol에서 '화성'을 '해왕성'으로 수정하세요\n",
    "4. sol에서 '수성' 자리에 '명왕성'을 삽입하세요\n",
    "5. sol에서 맨 끝에 '토성'을 추가하세요\n",
    "6. sol에서 3번 인덱스 값을 삭제하세요.\n",
    "7. sol에서 '지구'을 제거하세요\n",
    "8. sol에서 오름차순 정렬하세요\n",
    "9. sol에서 내림차순 정렬하세요.\n",
    "10. sol에서 '만리장성'이 있는지 확인하세요.\n",
    "11. sol에서  길이를 리턴하세요.\n",
    "12. sol과 sol1을 연결하세요.\n",
    "13. sol에서  모든 원소를 삭제하세요.\n",
    "14. sol이라는 list를 삭제하세요."
   ]
  },
  {
   "cell_type": "code",
   "execution_count": 1,
   "metadata": {},
   "outputs": [
    {
     "ename": "NameError",
     "evalue": "name 'sol' is not defined",
     "output_type": "error",
     "traceback": [
      "\u001b[1;31m---------------------------------------------------------------------------\u001b[0m",
      "\u001b[1;31mNameError\u001b[0m                                 Traceback (most recent call last)",
      "\u001b[1;32m<ipython-input-1-c2d198893fa0>\u001b[0m in \u001b[0;36m<module>\u001b[1;34m\u001b[0m\n\u001b[0;32m      1\u001b[0m \u001b[1;31m# 1. sol에서 '수성','금성','지구'를 출력하세요\u001b[0m\u001b[1;33m\u001b[0m\u001b[1;33m\u001b[0m\u001b[1;33m\u001b[0m\u001b[0m\n\u001b[1;32m----> 2\u001b[1;33m \u001b[0mprint\u001b[0m\u001b[1;33m(\u001b[0m\u001b[0msol\u001b[0m\u001b[1;33m[\u001b[0m\u001b[1;36m1\u001b[0m\u001b[1;33m:\u001b[0m\u001b[1;36m4\u001b[0m\u001b[1;33m]\u001b[0m\u001b[1;33m)\u001b[0m\u001b[1;33m\u001b[0m\u001b[1;33m\u001b[0m\u001b[0m\n\u001b[0m",
      "\u001b[1;31mNameError\u001b[0m: name 'sol' is not defined"
     ]
    }
   ],
   "source": [
    "# 1. sol에서 '수성','금성','지구'를 출력sol[1:4])"
   ]
  },
  {
   "cell_type": "code",
   "execution_count": 35,
   "metadata": {},
   "outputs": [
    {
     "data": {
      "text/plain": [
       "3"
      ]
     },
     "execution_count": 35,
     "metadata": {},
     "output_type": "execute_result"
    }
   ],
   "source": [
    "# 2. sol에서 '지구'의 인덱스를 출력하세요\n",
    "sol.index('지구')"
   ]
  },
  {
   "cell_type": "code",
   "execution_count": 37,
   "metadata": {},
   "outputs": [
    {
     "data": {
      "text/plain": [
       "['태양', '수성', '금성', '지구', '명왕성', '목성', '지구']"
      ]
     },
     "execution_count": 37,
     "metadata": {},
     "output_type": "execute_result"
    }
   ],
   "source": [
    "# 3. sol에서 '화성'을 '해왕성'으로 수정하세요\n",
    "sol['화성'] = '명왕성'\n"
   ]
  },
  {
   "cell_type": "code",
   "execution_count": 39,
   "metadata": {},
   "outputs": [],
   "source": [
    "# 4. sol에서 '수성' 자리에 '명왕성'을 삽입하세요\n",
    "sol.insert(sol.index('수성'), '명왕성')"
   ]
  },
  {
   "cell_type": "code",
   "execution_count": 40,
   "metadata": {},
   "outputs": [
    {
     "data": {
      "text/plain": [
       "['태양', '명왕성', '수성', '금성', '지구', '명왕성', '목성', '지구']"
      ]
     },
     "execution_count": 40,
     "metadata": {},
     "output_type": "execute_result"
    }
   ],
   "source": [
    "sol"
   ]
  },
  {
   "cell_type": "code",
   "execution_count": 41,
   "metadata": {},
   "outputs": [],
   "source": [
    "# 5. sol에서 맨 끝에 '토성'을 추가하세요\n",
    "sol.append('토성')"
   ]
  },
  {
   "cell_type": "code",
   "execution_count": 42,
   "metadata": {},
   "outputs": [
    {
     "data": {
      "text/plain": [
       "['태양', '명왕성', '수성', '금성', '지구', '명왕성', '목성', '지구', '토성']"
      ]
     },
     "execution_count": 42,
     "metadata": {},
     "output_type": "execute_result"
    }
   ],
   "source": [
    "sol"
   ]
  },
  {
   "cell_type": "code",
   "execution_count": 43,
   "metadata": {},
   "outputs": [
    {
     "data": {
      "text/plain": [
       "['태양', '명왕성', '수성', '지구', '명왕성', '목성', '지구', '토성']"
      ]
     },
     "execution_count": 43,
     "metadata": {},
     "output_type": "execute_result"
    }
   ],
   "source": [
    "# 6. sol에서 3번 인덱스 값을 삭제하세요.\n",
    "sol.pop(3)   # 인덱스 기준으로 삭제할 때\n",
    "sol"
   ]
  },
  {
   "cell_type": "code",
   "execution_count": 44,
   "metadata": {},
   "outputs": [
    {
     "data": {
      "text/plain": [
       "['태양', '명왕성', '수성', '명왕성', '목성', '지구', '토성']"
      ]
     },
     "execution_count": 44,
     "metadata": {},
     "output_type": "execute_result"
    }
   ],
   "source": [
    "# 7. sol에서 '지구'을 제거하세요\n",
    "sol.remove('지구')   # 특정한 값을 기준으로 삭제할 때,\n",
    "sol"
   ]
  },
  {
   "cell_type": "code",
   "execution_count": 45,
   "metadata": {},
   "outputs": [
    {
     "data": {
      "text/plain": [
       "['명왕성', '명왕성', '목성', '수성', '지구', '태양', '토성']"
      ]
     },
     "execution_count": 45,
     "metadata": {},
     "output_type": "execute_result"
    }
   ],
   "source": [
    "# 8. sol에서 오름차순 정렬하세요\n",
    "sorted(sol)   # 원본 반영하지 않음"
   ]
  },
  {
   "cell_type": "code",
   "execution_count": 46,
   "metadata": {},
   "outputs": [
    {
     "data": {
      "text/plain": [
       "['토성', '태양', '지구', '수성', '목성', '명왕성', '명왕성']"
      ]
     },
     "execution_count": 46,
     "metadata": {},
     "output_type": "execute_result"
    }
   ],
   "source": [
    "sorted(sol, reverse=True)"
   ]
  },
  {
   "cell_type": "code",
   "execution_count": 47,
   "metadata": {},
   "outputs": [
    {
     "data": {
      "text/plain": [
       "['태양', '명왕성', '수성', '명왕성', '목성', '지구', '토성']"
      ]
     },
     "execution_count": 47,
     "metadata": {},
     "output_type": "execute_result"
    }
   ],
   "source": [
    "sol"
   ]
  },
  {
   "cell_type": "code",
   "execution_count": 48,
   "metadata": {},
   "outputs": [
    {
     "data": {
      "text/plain": [
       "['명왕성', '명왕성', '목성', '수성', '지구', '태양', '토성']"
      ]
     },
     "execution_count": 48,
     "metadata": {},
     "output_type": "execute_result"
    }
   ],
   "source": [
    "sol.sort()     # 원본 반영\n",
    "sol"
   ]
  },
  {
   "cell_type": "code",
   "execution_count": 49,
   "metadata": {},
   "outputs": [
    {
     "data": {
      "text/plain": [
       "False"
      ]
     },
     "execution_count": 49,
     "metadata": {},
     "output_type": "execute_result"
    }
   ],
   "source": [
    "# 10. sol에서 '만리장성'이 있는지 확인하세요.\n",
    "\n",
    "'만리장성' in sol"
   ]
  },
  {
   "cell_type": "code",
   "execution_count": 50,
   "metadata": {},
   "outputs": [
    {
     "data": {
      "text/plain": [
       "7"
      ]
     },
     "execution_count": 50,
     "metadata": {},
     "output_type": "execute_result"
    }
   ],
   "source": [
    "# 11. sol에서  길이를 리턴하세요.\n",
    "len(sol)"
   ]
  },
  {
   "cell_type": "code",
   "execution_count": 51,
   "metadata": {},
   "outputs": [
    {
     "data": {
      "text/plain": [
       "['명왕성', '명왕성', '목성', '수성', '지구', '태양', '토성', '토성', '천왕성', '해왕성']"
      ]
     },
     "execution_count": 51,
     "metadata": {},
     "output_type": "execute_result"
    }
   ],
   "source": [
    "12. sol과 sol1을 연결하세요.\n",
    "sol + sol1"
   ]
  },
  {
   "cell_type": "code",
   "execution_count": 52,
   "metadata": {},
   "outputs": [
    {
     "data": {
      "text/plain": [
       "[]"
      ]
     },
     "execution_count": 52,
     "metadata": {},
     "output_type": "execute_result"
    }
   ],
   "source": [
    "# 13. sol에서  모든 원소를 삭제하세요.\n",
    "sol.clear()\n",
    "sol"
   ]
  },
  {
   "cell_type": "code",
   "execution_count": 54,
   "metadata": {},
   "outputs": [],
   "source": [
    "# 14. sol이라는 list를 삭제하세요.\n",
    "del sol"
   ]
  },
  {
   "cell_type": "code",
   "execution_count": 55,
   "metadata": {},
   "outputs": [
    {
     "ename": "NameError",
     "evalue": "name 'sol' is not defined",
     "output_type": "error",
     "traceback": [
      "\u001b[1;31m---------------------------------------------------------------------------\u001b[0m",
      "\u001b[1;31mNameError\u001b[0m                                 Traceback (most recent call last)",
      "\u001b[1;32m<ipython-input-55-33b7209e1be3>\u001b[0m in \u001b[0;36m<module>\u001b[1;34m\u001b[0m\n\u001b[1;32m----> 1\u001b[1;33m \u001b[0msol\u001b[0m\u001b[1;33m\u001b[0m\u001b[1;33m\u001b[0m\u001b[0m\n\u001b[0m",
      "\u001b[1;31mNameError\u001b[0m: name 'sol' is not defined"
     ]
    }
   ],
   "source": [
    "sol"
   ]
  },
  {
   "cell_type": "code",
   "execution_count": null,
   "metadata": {},
   "outputs": [],
   "source": []
  },
  {
   "cell_type": "code",
   "execution_count": null,
   "metadata": {},
   "outputs": [],
   "source": []
  },
  {
   "cell_type": "code",
   "execution_count": null,
   "metadata": {},
   "outputs": [],
   "source": []
  },
  {
   "cell_type": "code",
   "execution_count": null,
   "metadata": {},
   "outputs": [],
   "source": []
  }
 ],
 "metadata": {
  "kernelspec": {
   "display_name": "Python 3",
   "language": "python",
   "name": "python3"
  },
  "language_info": {
   "codemirror_mode": {
    "name": "ipython",
    "version": 3
   },
   "file_extension": ".py",
   "mimetype": "text/x-python",
   "name": "python",
   "nbconvert_exporter": "python",
   "pygments_lexer": "ipython3",
   "version": "3.7.6"
  }
 },
 "nbformat": 4,
 "nbformat_minor": 4
}
